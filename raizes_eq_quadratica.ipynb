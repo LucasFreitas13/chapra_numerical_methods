{
 "cells": [
  {
   "cell_type": "markdown",
   "id": "5643d68b-4530-4109-9ac7-ea84d38360bd",
   "metadata": {},
   "source": [
    "## Capítulo 2"
   ]
  },
  {
   "cell_type": "markdown",
   "id": "1c836b15-6adb-4e59-b117-ce509ce903b8",
   "metadata": {},
   "source": [
    "#### Exercício 2.3"
   ]
  },
  {
   "cell_type": "code",
   "execution_count": null,
   "id": "91774257-a73c-44f2-8fa8-860a747fcac2",
   "metadata": {},
   "outputs": [],
   "source": []
  }
 ],
 "metadata": {
  "kernelspec": {
   "display_name": "Python 3 (ipykernel)",
   "language": "python",
   "name": "python3"
  },
  "language_info": {
   "codemirror_mode": {
    "name": "ipython",
    "version": 3
   },
   "file_extension": ".py",
   "mimetype": "text/x-python",
   "name": "python",
   "nbconvert_exporter": "python",
   "pygments_lexer": "ipython3",
   "version": "3.10.12"
  }
 },
 "nbformat": 4,
 "nbformat_minor": 5
}
