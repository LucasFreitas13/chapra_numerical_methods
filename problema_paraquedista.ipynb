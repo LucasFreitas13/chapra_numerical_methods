{
 "cells": [
  {
   "cell_type": "markdown",
   "id": "30d3c15a-3364-4cdf-ae77-de805712c224",
   "metadata": {},
   "source": [
    "# Capítulo 2"
   ]
  },
  {
   "cell_type": "markdown",
   "id": "1ca6b8df-e242-4826-aca7-1dec2e5e1a8c",
   "metadata": {},
   "source": [
    "### Exemplo do paraquedista"
   ]
  },
  {
   "cell_type": "markdown",
   "id": "cfadd097-b3d1-4906-96fd-df770667e300",
   "metadata": {},
   "source": [
    "#### Inputs do exemplo"
   ]
  },
  {
   "cell_type": "code",
   "execution_count": null,
   "id": "2100e4bc-4f3d-4cea-a883-9c9ef424b74f",
   "metadata": {},
   "outputs": [],
   "source": [
    "passo = float(input(\"Qual o tamanho do passo desejado? \"))\n",
    "t0 = float(input(\"Instante inicial? \"))\n",
    "instante = float(input(\"Em que instante você quer saber a velocidade do paraquedista? \"))\n",
    "v0 = float(input(\"Velocidade inicial do paraquedista? \"))\n",
    "massa = float(input(\"Qual a massa da pessoa? \"))\n",
    "cd = float(input(\"Qual o coeficiente de arrasto? \"))"
   ]
  },
  {
   "cell_type": "code",
   "execution_count": null,
   "id": "9294123d-10da-4959-bd65-cc40389d1aaf",
   "metadata": {},
   "outputs": [],
   "source": [
    "#### V"
   ]
  }
 ],
 "metadata": {
  "kernelspec": {
   "display_name": "Python 3 (ipykernel)",
   "language": "python",
   "name": "python3"
  },
  "language_info": {
   "codemirror_mode": {
    "name": "ipython",
    "version": 3
   },
   "file_extension": ".py",
   "mimetype": "text/x-python",
   "name": "python",
   "nbconvert_exporter": "python",
   "pygments_lexer": "ipython3",
   "version": "3.10.12"
  }
 },
 "nbformat": 4,
 "nbformat_minor": 5
}
