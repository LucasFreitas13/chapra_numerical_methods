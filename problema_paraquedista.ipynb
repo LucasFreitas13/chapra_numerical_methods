{
 "cells": [
  {
   "cell_type": "markdown",
   "id": "30d3c15a-3364-4cdf-ae77-de805712c224",
   "metadata": {},
   "source": [
    "# Capítulo 2"
   ]
  },
  {
   "cell_type": "markdown",
   "id": "1ca6b8df-e242-4826-aca7-1dec2e5e1a8c",
   "metadata": {},
   "source": [
    "### Exemplo do paraquedista"
   ]
  },
  {
   "cell_type": "markdown",
   "id": "cfadd097-b3d1-4906-96fd-df770667e300",
   "metadata": {},
   "source": [
    "#### Inputs do exemplo"
   ]
  },
  {
   "cell_type": "code",
   "execution_count": null,
   "id": "2100e4bc-4f3d-4cea-a883-9c9ef424b74f",
   "metadata": {},
   "outputs": [],
   "source": [
    "\"\"\"passo = float(input(\"Qual o tamanho do passo desejado? \"))\n",
    "t0 = float(input(\"Instante inicial? \"))\n",
    "instante = float(input(\"Em que instante você quer saber a velocidade do paraquedista? \"))\n",
    "v0 = float(input(\"Velocidade inicial do paraquedista? \"))\n",
    "massa = float(input(\"Qual a massa da pessoa? \"))\n",
    "cd = float(input(\"Qual o coeficiente de arrasto? \"))\"\"\""
   ]
  },
  {
   "cell_type": "code",
   "execution_count": 49,
   "id": "21d217d7-a64c-4432-b8d7-83771ffcccc4",
   "metadata": {},
   "outputs": [],
   "source": [
    "passo = 0.1\n",
    "t0 = 0\n",
    "instante = 4\n",
    "v0 = 0\n",
    "massa = 68.1\n",
    "cd = 12.5"
   ]
  },
  {
   "cell_type": "markdown",
   "id": "6fd28abb-2392-4896-a2bb-4864917d0567",
   "metadata": {},
   "source": [
    "#### Constantes para o problema"
   ]
  },
  {
   "cell_type": "code",
   "execution_count": 50,
   "id": "da64f23d-f0a5-466e-a78d-1b75cc92b865",
   "metadata": {},
   "outputs": [],
   "source": [
    "g = 9.81"
   ]
  },
  {
   "cell_type": "markdown",
   "id": "461ea19d-799a-48c4-9abc-a171ce9167a5",
   "metadata": {},
   "source": [
    "#### Loop para encontrar a velocidade em determinado instante"
   ]
  },
  {
   "cell_type": "code",
   "execution_count": 51,
   "id": "3feb4d73-cbcc-42df-b697-bb4c0892270f",
   "metadata": {},
   "outputs": [],
   "source": [
    "t = t0\n",
    "v = v0\n",
    "h = passo\n",
    "\n",
    "while True:\n",
    "    dvdt = g - (cd/massa)*v\n",
    "    v += dvdt*h\n",
    "    t += h\n",
    "    if t >= instante:\n",
    "        break"
   ]
  },
  {
   "cell_type": "code",
   "execution_count": 52,
   "id": "69950b83-7c12-4abc-961f-353f99347166",
   "metadata": {},
   "outputs": [
    {
     "name": "stdout",
     "output_type": "stream",
     "text": [
      "A velocidade final no instante t=4 s é 27.972 m/s.\n"
     ]
    }
   ],
   "source": [
    "print(f\"A velocidade final no instante t={instante} s é {round(v,4)} m/s.\")"
   ]
  },
  {
   "cell_type": "code",
   "execution_count": null,
   "id": "bf76bb77-76b1-452e-bcd1-b3ac9ce9a0f9",
   "metadata": {},
   "outputs": [],
   "source": []
  }
 ],
 "metadata": {
  "kernelspec": {
   "display_name": "Python 3 (ipykernel)",
   "language": "python",
   "name": "python3"
  },
  "language_info": {
   "codemirror_mode": {
    "name": "ipython",
    "version": 3
   },
   "file_extension": ".py",
   "mimetype": "text/x-python",
   "name": "python",
   "nbconvert_exporter": "python",
   "pygments_lexer": "ipython3",
   "version": "3.10.12"
  }
 },
 "nbformat": 4,
 "nbformat_minor": 5
}
